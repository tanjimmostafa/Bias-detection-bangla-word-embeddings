{
  "nbformat": 4,
  "nbformat_minor": 0,
  "metadata": {
    "colab": {
      "provenance": [],
      "include_colab_link": true
    },
    "kernelspec": {
      "name": "python3",
      "display_name": "Python 3"
    },
    "language_info": {
      "name": "python"
    }
  },
  "cells": [
    {
      "cell_type": "markdown",
      "metadata": {
        "id": "view-in-github",
        "colab_type": "text"
      },
      "source": [
        "<a href=\"https://colab.research.google.com/github/tanjimmostafa/Bias-detection-bangla-word-embeddings/blob/main/Detecting_Gender_Bias.ipynb\" target=\"_parent\"><img src=\"https://colab.research.google.com/assets/colab-badge.svg\" alt=\"Open In Colab\"/></a>"
      ]
    },
    {
      "cell_type": "markdown",
      "source": [
        "# Loading Bangla Word2vec Model"
      ],
      "metadata": {
        "id": "wnLC3Bequn3X"
      }
    },
    {
      "cell_type": "code",
      "execution_count": null,
      "metadata": {
        "colab": {
          "base_uri": "https://localhost:8080/"
        },
        "id": "HgcLlnjXdCRK",
        "outputId": "c2ebee1c-ab5d-44ed-9e18-8c2dc873df21"
      },
      "outputs": [
        {
          "output_type": "stream",
          "name": "stdout",
          "text": [
            "Collecting bnlp_toolkit\n",
            "  Downloading bnlp_toolkit-4.0.1-py3-none-any.whl (22 kB)\n",
            "Collecting sentencepiece==0.2.0 (from bnlp_toolkit)\n",
            "  Downloading sentencepiece-0.2.0-cp310-cp310-manylinux_2_17_x86_64.manylinux2014_x86_64.whl (1.3 MB)\n",
            "\u001b[2K     \u001b[90m━━━━━━━━━━━━━━━━━━━━━━━━━━━━━━━━━━━━━━━━\u001b[0m \u001b[32m1.3/1.3 MB\u001b[0m \u001b[31m8.5 MB/s\u001b[0m eta \u001b[36m0:00:00\u001b[0m\n",
            "\u001b[?25hRequirement already satisfied: gensim==4.3.2 in /usr/local/lib/python3.10/dist-packages (from bnlp_toolkit) (4.3.2)\n",
            "Requirement already satisfied: nltk==3.8.1 in /usr/local/lib/python3.10/dist-packages (from bnlp_toolkit) (3.8.1)\n",
            "Requirement already satisfied: numpy in /usr/local/lib/python3.10/dist-packages (from bnlp_toolkit) (1.25.2)\n",
            "Collecting scipy==1.10.1 (from bnlp_toolkit)\n",
            "  Downloading scipy-1.10.1-cp310-cp310-manylinux_2_17_x86_64.manylinux2014_x86_64.whl (34.4 MB)\n",
            "\u001b[2K     \u001b[90m━━━━━━━━━━━━━━━━━━━━━━━━━━━━━━━━━━━━━━━━\u001b[0m \u001b[32m34.4/34.4 MB\u001b[0m \u001b[31m27.9 MB/s\u001b[0m eta \u001b[36m0:00:00\u001b[0m\n",
            "\u001b[?25hCollecting sklearn-crfsuite==0.3.6 (from bnlp_toolkit)\n",
            "  Downloading sklearn_crfsuite-0.3.6-py2.py3-none-any.whl (12 kB)\n",
            "Collecting tqdm==4.66.3 (from bnlp_toolkit)\n",
            "  Downloading tqdm-4.66.3-py3-none-any.whl (78 kB)\n",
            "\u001b[2K     \u001b[90m━━━━━━━━━━━━━━━━━━━━━━━━━━━━━━━━━━━━━━━━\u001b[0m \u001b[32m78.4/78.4 kB\u001b[0m \u001b[31m6.4 MB/s\u001b[0m eta \u001b[36m0:00:00\u001b[0m\n",
            "\u001b[?25hCollecting ftfy==6.2.0 (from bnlp_toolkit)\n",
            "  Downloading ftfy-6.2.0-py3-none-any.whl (54 kB)\n",
            "\u001b[2K     \u001b[90m━━━━━━━━━━━━━━━━━━━━━━━━━━━━━━━━━━━━━━━━\u001b[0m \u001b[32m54.4/54.4 kB\u001b[0m \u001b[31m4.9 MB/s\u001b[0m eta \u001b[36m0:00:00\u001b[0m\n",
            "\u001b[?25hCollecting emoji==1.7.0 (from bnlp_toolkit)\n",
            "  Downloading emoji-1.7.0.tar.gz (175 kB)\n",
            "\u001b[2K     \u001b[90m━━━━━━━━━━━━━━━━━━━━━━━━━━━━━━━━━━━━━━━━\u001b[0m \u001b[32m175.4/175.4 kB\u001b[0m \u001b[31m15.8 MB/s\u001b[0m eta \u001b[36m0:00:00\u001b[0m\n",
            "\u001b[?25h  Preparing metadata (setup.py) ... \u001b[?25l\u001b[?25hdone\n",
            "Requirement already satisfied: requests in /usr/local/lib/python3.10/dist-packages (from bnlp_toolkit) (2.31.0)\n",
            "Requirement already satisfied: wcwidth<0.3.0,>=0.2.12 in /usr/local/lib/python3.10/dist-packages (from ftfy==6.2.0->bnlp_toolkit) (0.2.13)\n",
            "Requirement already satisfied: smart-open>=1.8.1 in /usr/local/lib/python3.10/dist-packages (from gensim==4.3.2->bnlp_toolkit) (6.4.0)\n",
            "Requirement already satisfied: click in /usr/local/lib/python3.10/dist-packages (from nltk==3.8.1->bnlp_toolkit) (8.1.7)\n",
            "Requirement already satisfied: joblib in /usr/local/lib/python3.10/dist-packages (from nltk==3.8.1->bnlp_toolkit) (1.4.2)\n",
            "Requirement already satisfied: regex>=2021.8.3 in /usr/local/lib/python3.10/dist-packages (from nltk==3.8.1->bnlp_toolkit) (2023.12.25)\n",
            "Collecting python-crfsuite>=0.8.3 (from sklearn-crfsuite==0.3.6->bnlp_toolkit)\n",
            "  Downloading python_crfsuite-0.9.10-cp310-cp310-manylinux_2_17_x86_64.manylinux2014_x86_64.whl (1.1 MB)\n",
            "\u001b[2K     \u001b[90m━━━━━━━━━━━━━━━━━━━━━━━━━━━━━━━━━━━━━━━━\u001b[0m \u001b[32m1.1/1.1 MB\u001b[0m \u001b[31m28.3 MB/s\u001b[0m eta \u001b[36m0:00:00\u001b[0m\n",
            "\u001b[?25hRequirement already satisfied: six in /usr/local/lib/python3.10/dist-packages (from sklearn-crfsuite==0.3.6->bnlp_toolkit) (1.16.0)\n",
            "Requirement already satisfied: tabulate in /usr/local/lib/python3.10/dist-packages (from sklearn-crfsuite==0.3.6->bnlp_toolkit) (0.9.0)\n",
            "Requirement already satisfied: charset-normalizer<4,>=2 in /usr/local/lib/python3.10/dist-packages (from requests->bnlp_toolkit) (3.3.2)\n",
            "Requirement already satisfied: idna<4,>=2.5 in /usr/local/lib/python3.10/dist-packages (from requests->bnlp_toolkit) (3.7)\n",
            "Requirement already satisfied: urllib3<3,>=1.21.1 in /usr/local/lib/python3.10/dist-packages (from requests->bnlp_toolkit) (2.0.7)\n",
            "Requirement already satisfied: certifi>=2017.4.17 in /usr/local/lib/python3.10/dist-packages (from requests->bnlp_toolkit) (2024.2.2)\n",
            "Building wheels for collected packages: emoji\n",
            "  Building wheel for emoji (setup.py) ... \u001b[?25l\u001b[?25hdone\n",
            "  Created wheel for emoji: filename=emoji-1.7.0-py3-none-any.whl size=171034 sha256=750ef40e4bd55c2c9ba7fd8ca3fa3b7cc91f0d585e3ab6fc9d583235d0910e42\n",
            "  Stored in directory: /root/.cache/pip/wheels/31/8a/8c/315c9e5d7773f74b33d5ed33f075b49c6eaeb7cedbb86e2cf8\n",
            "Successfully built emoji\n",
            "Installing collected packages: sentencepiece, python-crfsuite, emoji, tqdm, scipy, ftfy, sklearn-crfsuite, bnlp_toolkit\n",
            "  Attempting uninstall: sentencepiece\n",
            "    Found existing installation: sentencepiece 0.1.99\n",
            "    Uninstalling sentencepiece-0.1.99:\n",
            "      Successfully uninstalled sentencepiece-0.1.99\n",
            "  Attempting uninstall: tqdm\n",
            "    Found existing installation: tqdm 4.66.4\n",
            "    Uninstalling tqdm-4.66.4:\n",
            "      Successfully uninstalled tqdm-4.66.4\n",
            "  Attempting uninstall: scipy\n",
            "    Found existing installation: scipy 1.11.4\n",
            "    Uninstalling scipy-1.11.4:\n",
            "      Successfully uninstalled scipy-1.11.4\n",
            "Successfully installed bnlp_toolkit-4.0.1 emoji-1.7.0 ftfy-6.2.0 python-crfsuite-0.9.10 scipy-1.10.1 sentencepiece-0.2.0 sklearn-crfsuite-0.3.6 tqdm-4.66.3\n"
          ]
        }
      ],
      "source": [
        "!pip install -U bnlp_toolkit"
      ]
    },
    {
      "cell_type": "code",
      "source": [
        "!mkdir models\n",
        "%cd models"
      ],
      "metadata": {
        "colab": {
          "base_uri": "https://localhost:8080/"
        },
        "id": "fo0WT6ZKdUyF",
        "outputId": "80d06c21-d473-45fb-c318-353a4aebc0af"
      },
      "execution_count": null,
      "outputs": [
        {
          "output_type": "stream",
          "name": "stdout",
          "text": [
            "/content/models\n"
          ]
        }
      ]
    },
    {
      "cell_type": "code",
      "source": [
        "!wget https://huggingface.co/sagorsarker/bangla_word2vec/resolve/main/bangla_word2vec_gen4.zip\n",
        "!unzip bangla_word2vec_gen4.zip\n",
        "!rm -rf bangla_word2vec_gen4.zip"
      ],
      "metadata": {
        "colab": {
          "base_uri": "https://localhost:8080/"
        },
        "id": "NSydgbHOdaRT",
        "outputId": "1f6690ba-0c9c-4439-ec00-1809242b7523"
      },
      "execution_count": null,
      "outputs": [
        {
          "output_type": "stream",
          "name": "stdout",
          "text": [
            "--2024-05-15 20:36:52--  https://huggingface.co/sagorsarker/bangla_word2vec/resolve/main/bangla_word2vec_gen4.zip\n",
            "Resolving huggingface.co (huggingface.co)... 13.33.30.49, 13.33.30.76, 13.33.30.23, ...\n",
            "Connecting to huggingface.co (huggingface.co)|13.33.30.49|:443... connected.\n",
            "HTTP request sent, awaiting response... 302 Found\n",
            "Location: https://cdn-lfs.huggingface.co/repos/f5/12/f51294acf565f8e7f2b231a61a327e6a79fce680615e3bbbc4850f166e928650/b157fe019ddda848f0195240f636ff2dcb63cbe823c84eed77c129e196105fd1?response-content-disposition=attachment%3B+filename*%3DUTF-8%27%27bangla_word2vec_gen4.zip%3B+filename%3D%22bangla_word2vec_gen4.zip%22%3B&response-content-type=application%2Fzip&Expires=1716064612&Policy=eyJTdGF0ZW1lbnQiOlt7IkNvbmRpdGlvbiI6eyJEYXRlTGVzc1RoYW4iOnsiQVdTOkVwb2NoVGltZSI6MTcxNjA2NDYxMn19LCJSZXNvdXJjZSI6Imh0dHBzOi8vY2RuLWxmcy5odWdnaW5nZmFjZS5jby9yZXBvcy9mNS8xMi9mNTEyOTRhY2Y1NjVmOGU3ZjJiMjMxYTYxYTMyN2U2YTc5ZmNlNjgwNjE1ZTNiYmJjNDg1MGYxNjZlOTI4NjUwL2IxNTdmZTAxOWRkZGE4NDhmMDE5NTI0MGY2MzZmZjJkY2I2M2NiZTgyM2M4NGVlZDc3YzEyOWUxOTYxMDVmZDE%7EcmVzcG9uc2UtY29udGVudC1kaXNwb3NpdGlvbj0qJnJlc3BvbnNlLWNvbnRlbnQtdHlwZT0qIn1dfQ__&Signature=Vo5bMsfH0Ga1LSmCfoB7CkjivEDk6ZZ6kgB2FFE7CjLx9gTDIjtrSc1FGz0q%7E%7El5ejjOaokRkE5Qmzjr8gVW62kJnEm0Iha2WicjZe8TmFsdbETroVdKt9xto47ENq9iHX5jw91k2rHjt0MdGVMwEVETjmav6sS2jXt0kHRKn3ISvaXVJawUgKTgUcTCL-oh9m%7ENA%7ETbYMMiWp1rDPah81IBKZMOQmVL1i1mbnUA9EdEYpGt-kE394j0dzVmlTk5egGGysGOro8IUR6qxtP2Hqptp0FRYhahCw0iTU0NkUO5M1xWgE4dKFt6WGbxC1PiC5kWqa2JR6Azpd2OvnALsg__&Key-Pair-Id=KVTP0A1DKRTAX [following]\n",
            "--2024-05-15 20:36:52--  https://cdn-lfs.huggingface.co/repos/f5/12/f51294acf565f8e7f2b231a61a327e6a79fce680615e3bbbc4850f166e928650/b157fe019ddda848f0195240f636ff2dcb63cbe823c84eed77c129e196105fd1?response-content-disposition=attachment%3B+filename*%3DUTF-8%27%27bangla_word2vec_gen4.zip%3B+filename%3D%22bangla_word2vec_gen4.zip%22%3B&response-content-type=application%2Fzip&Expires=1716064612&Policy=eyJTdGF0ZW1lbnQiOlt7IkNvbmRpdGlvbiI6eyJEYXRlTGVzc1RoYW4iOnsiQVdTOkVwb2NoVGltZSI6MTcxNjA2NDYxMn19LCJSZXNvdXJjZSI6Imh0dHBzOi8vY2RuLWxmcy5odWdnaW5nZmFjZS5jby9yZXBvcy9mNS8xMi9mNTEyOTRhY2Y1NjVmOGU3ZjJiMjMxYTYxYTMyN2U2YTc5ZmNlNjgwNjE1ZTNiYmJjNDg1MGYxNjZlOTI4NjUwL2IxNTdmZTAxOWRkZGE4NDhmMDE5NTI0MGY2MzZmZjJkY2I2M2NiZTgyM2M4NGVlZDc3YzEyOWUxOTYxMDVmZDE%7EcmVzcG9uc2UtY29udGVudC1kaXNwb3NpdGlvbj0qJnJlc3BvbnNlLWNvbnRlbnQtdHlwZT0qIn1dfQ__&Signature=Vo5bMsfH0Ga1LSmCfoB7CkjivEDk6ZZ6kgB2FFE7CjLx9gTDIjtrSc1FGz0q%7E%7El5ejjOaokRkE5Qmzjr8gVW62kJnEm0Iha2WicjZe8TmFsdbETroVdKt9xto47ENq9iHX5jw91k2rHjt0MdGVMwEVETjmav6sS2jXt0kHRKn3ISvaXVJawUgKTgUcTCL-oh9m%7ENA%7ETbYMMiWp1rDPah81IBKZMOQmVL1i1mbnUA9EdEYpGt-kE394j0dzVmlTk5egGGysGOro8IUR6qxtP2Hqptp0FRYhahCw0iTU0NkUO5M1xWgE4dKFt6WGbxC1PiC5kWqa2JR6Azpd2OvnALsg__&Key-Pair-Id=KVTP0A1DKRTAX\n",
            "Resolving cdn-lfs.huggingface.co (cdn-lfs.huggingface.co)... 13.35.166.68, 13.35.166.83, 13.35.166.84, ...\n",
            "Connecting to cdn-lfs.huggingface.co (cdn-lfs.huggingface.co)|13.35.166.68|:443... connected.\n",
            "HTTP request sent, awaiting response... 200 OK\n",
            "Length: 199591017 (190M) [application/zip]\n",
            "Saving to: ‘bangla_word2vec_gen4.zip’\n",
            "\n",
            "bangla_word2vec_gen 100%[===================>] 190.34M  19.5MB/s    in 11s     \n",
            "\n",
            "2024-05-15 20:37:05 (16.9 MB/s) - ‘bangla_word2vec_gen4.zip’ saved [199591017/199591017]\n",
            "\n",
            "Archive:  bangla_word2vec_gen4.zip\n",
            "   creating: bangla_word2vec/\n",
            "  inflating: bangla_word2vec/README.md  \n",
            "  inflating: bangla_word2vec/bnwiki_word2vec.model  \n",
            "  inflating: bangla_word2vec/bnwiki_word2vec.model.syn1neg.npy  \n",
            "  inflating: bangla_word2vec/bnwiki_word2vec.model.wv.vectors.npy  \n",
            "  inflating: bangla_word2vec/bnwiki_word2vec.vector  \n",
            "   creating: bangla_word2vec/evaluations/\n",
            "  inflating: bangla_word2vec/evaluations/evaluation.json  \n"
          ]
        }
      ]
    },
    {
      "cell_type": "code",
      "source": [
        "%cd .."
      ],
      "metadata": {
        "id": "sez--zdmdduU",
        "colab": {
          "base_uri": "https://localhost:8080/"
        },
        "outputId": "f6700f15-db32-4fa8-cf07-d3b3a147981e"
      },
      "execution_count": null,
      "outputs": [
        {
          "output_type": "stream",
          "name": "stdout",
          "text": [
            "/content\n"
          ]
        }
      ]
    },
    {
      "cell_type": "markdown",
      "source": [
        "# Checking the words in the Word2vec Vocab"
      ],
      "metadata": {
        "id": "P4osEd1NuuMW"
      }
    },
    {
      "cell_type": "code",
      "source": [
        "from collections import defaultdict\n",
        "import time\n",
        "import gensim\n",
        "word2vec_model_path = \"models/bangla_word2vec/bnwiki_word2vec.model\"\n",
        "word2vec_model = gensim.models.Word2Vec.load(word2vec_model_path)\n",
        "\n",
        "start = time.time()\n",
        "word_list = ['ছেলে', 'মেয়ে', 'পুরুষ', 'মহিলা', 'ডাক্তার', 'নার্স', 'I', 'he', 'she', 'Doctor']\n",
        "for word in word_list:\n",
        "  if word in word2vec_model.wv.key_to_index:\n",
        "    pass\n",
        "  else:\n",
        "    print(f'{word} Not Found in the vocab')\n",
        "\n",
        "print('Total time executed', time.time()-start, 'Avg time for finding word to vec', (time.time()-start)/len(word_list))"
      ],
      "metadata": {
        "colab": {
          "base_uri": "https://localhost:8080/"
        },
        "id": "zAlDq7CIdjm0",
        "outputId": "c50f91f6-9e12-41be-9c41-6760c67d73da"
      },
      "execution_count": null,
      "outputs": [
        {
          "output_type": "stream",
          "name": "stdout",
          "text": [
            "মেয়ে Not Found in the vocab\n",
            "Total time executed 0.0015916824340820312 Avg time for finding word to vec 0.0001592397689819336\n"
          ]
        }
      ]
    },
    {
      "cell_type": "markdown",
      "source": [
        "# Detecting Bias by Finding Most Common Word via Gender Direction Projection"
      ],
      "metadata": {
        "id": "or7RYw11u0Z9"
      }
    },
    {
      "cell_type": "code",
      "source": [
        "import numpy as np\n",
        "\n",
        "gender_direction = word2vec_model.wv['পুরুষ'] - word2vec_model.wv['মহিলা']\n",
        "\n",
        "gender_specific_words = [ 'শক্তি','ডাক্তার','পরিচালক', 'ক্যাশিয়ার','শিক্ষক','নার্স','সেবিকা','সহকারী','ম্যানেজার','আইনজীবী','কৃষক','চালক','বিক্রেতা','চিকিত্সক','গার্ড','বিজ্ঞানী','লেখক']\n",
        "similarities_boy = {}\n",
        "similarities_girl = {}\n",
        "\n",
        "for word in gender_specific_words:\n",
        "#for word in word2vec_model.wv.key_to_index:\n",
        "    vector = word2vec_model.wv[word]\n",
        "    similarity = np.dot(gender_direction, vector) / (np.linalg.norm(gender_direction) * np.linalg.norm(vector))\n",
        "    similarities_boy[word] = similarity\n",
        "    # Similarity in Opposite Direction\n",
        "    similarity = np.dot(-gender_direction, vector) / (np.linalg.norm(gender_direction) * np.linalg.norm(vector))\n",
        "    similarities_girl[word] = similarity\n",
        "\n",
        "\n",
        "\n",
        "sorted_words_boy = sorted(similarities_boy, key=similarities_boy.get, reverse=True)\n",
        "sorted_words_girl = sorted(similarities_girl, key=similarities_girl.get, reverse=True)\n",
        "\n",
        "\n",
        "num_words = 10\n",
        "top_words_he = sorted_words_boy[:num_words]\n",
        "print(\"Top biased words for 'পুরুষ':\")\n",
        "for word in top_words_he:\n",
        "    print(word, similarities_boy[word])\n",
        "\n",
        "top_words_she = sorted_words_girl[:num_words]\n",
        "print(\"\\nTop biased words for 'মহিলা':\")\n",
        "for word in top_words_she:\n",
        "    print(word, similarities_girl[word])\n"
      ],
      "metadata": {
        "colab": {
          "base_uri": "https://localhost:8080/"
        },
        "id": "EcDGXWScdr_A",
        "outputId": "0baee74f-3956-400d-8df7-39aa89cef49e"
      },
      "execution_count": null,
      "outputs": [
        {
          "output_type": "stream",
          "name": "stdout",
          "text": [
            "Top biased words for 'পুরুষ':\n",
            "শক্তি 0.12699015\n",
            "লেখক 0.031250235\n",
            "চালক -0.026816102\n",
            "কৃষক -0.031428378\n",
            "বিজ্ঞানী -0.034010585\n",
            "চিকিত্সক -0.042528506\n",
            "সেবিকা -0.071175575\n",
            "ডাক্তার -0.07822161\n",
            "বিক্রেতা -0.08101114\n",
            "পরিচালক -0.083377324\n",
            "\n",
            "Top biased words for 'মহিলা':\n",
            "গার্ড 0.29307142\n",
            "আইনজীবী 0.2574893\n",
            "ম্যানেজার 0.16971758\n",
            "নার্স 0.15421136\n",
            "শিক্ষক 0.12090514\n",
            "সহকারী 0.108566284\n",
            "ক্যাশিয়ার 0.09312599\n",
            "পরিচালক 0.083377324\n",
            "বিক্রেতা 0.08101114\n",
            "ডাক্তার 0.07822161\n"
          ]
        }
      ]
    },
    {
      "cell_type": "markdown",
      "source": [
        "# Detecting Bias Performing PCA"
      ],
      "metadata": {
        "id": "Qlyt0mOovDse"
      }
    },
    {
      "cell_type": "code",
      "source": [
        "\n",
        "from sklearn.decomposition import PCA\n",
        "import matplotlib.pyplot as plt\n",
        "#from matplotlib.font_manager import FontProperties\n",
        "\n",
        "# Configure Bangla font\n",
        "#bangla_font = FontProperties(fname='kalpurush.ttf')\n",
        "\n",
        "gender_specific_words = ['he', 'she', 'Doctor']\n",
        "word_embeddings = [word2vec_model.wv[word] for word in gender_specific_words]\n",
        "\n",
        "# Create the gender direction matrix\n",
        "gender_direction_matrix = np.array(word_embeddings)\n",
        "\n",
        "# Standardize the matrix\n",
        "mean = np.mean(gender_direction_matrix, axis=0)\n",
        "std = np.std(gender_direction_matrix, axis=0)\n",
        "standardized_matrix = (gender_direction_matrix - mean) / std\n",
        "\n",
        "# Perform PCA\n",
        "pca = PCA()\n",
        "principal_components = pca.fit_transform(standardized_matrix)\n",
        "\n",
        "weights = pca.components_\n",
        "\n",
        "# Visualization\n",
        "plt.figure(figsize=(8, 6))\n",
        "for i, word in enumerate(gender_specific_words):\n",
        "    plt.bar(range(len(gender_specific_words)), weights[:, i], alpha=0.6, label=word)\n",
        "\n",
        "plt.xticks(range(len(gender_specific_words)), gender_specific_words, rotation=45)\n",
        "plt.xlabel('Gender-Specific Words')\n",
        "plt.ylabel('Weight')\n",
        "plt.title('Weights of PCA Components')\n",
        "plt.legend()\n",
        "plt.tight_layout()\n",
        "plt.show()"
      ],
      "metadata": {
        "colab": {
          "base_uri": "https://localhost:8080/",
          "height": 607
        },
        "id": "nH00cbO1rhTj",
        "outputId": "c51165ea-7e8d-4b6f-9b9d-cd470e2ba9be"
      },
      "execution_count": null,
      "outputs": [
        {
          "output_type": "display_data",
          "data": {
            "text/plain": [
              "<Figure size 800x600 with 1 Axes>"
            ],
            "image/png": "[encoded data removed]"
          },
          "metadata": {}
        }
      ]
    },
    {
      "cell_type": "markdown",
      "source": [
        "# Detecting Bias For Bangla Word using PCA"
      ],
      "metadata": {
        "id": "tN_o1aljvPV3"
      }
    },
    {
      "cell_type": "code",
      "source": [
        "# Download Kalpurush from the link : https://www.omicronlab.com/bangla-fonts.html\n",
        "import numpy as np\n",
        "import matplotlib.pyplot as plt\n",
        "from sklearn.decomposition import PCA\n",
        "from matplotlib.font_manager import FontProperties\n",
        "\n",
        "# Configure Bangla font\n",
        "from google.colab import drive\n",
        "drive.mount('/content/drive')\n",
        "font_path = '/content/drive/My Drive/Colab Notebooks/kalpurush.ttf'\n",
        "bangla_font = FontProperties(fname=font_path)\n",
        "\n",
        "gender_specific_words = [ 'পুরুষ', 'মহিলা', 'ক্যাশিয়ার','শিক্ষক','সেবিকা','সহকারী','কৃষক','চিকিৎসক','ডাক্তার','বিজ্ঞানী','লেখক',]\n",
        "word_embeddings = [word2vec_model.wv[word] for word in gender_specific_words]\n",
        "\n",
        "# Create the gender direction matrix\n",
        "gender_direction_matrix = np.array(word_embeddings)\n",
        "\n",
        "# Standardize the matrix\n",
        "mean = np.mean(gender_direction_matrix, axis=0)\n",
        "std = np.std(gender_direction_matrix, axis=0)\n",
        "standardized_matrix = (gender_direction_matrix - mean) / std\n",
        "\n",
        "# Perform PCA\n",
        "pca = PCA()\n",
        "principal_components = pca.fit_transform(standardized_matrix)\n",
        "\n",
        "weights = pca.components_\n",
        "\n",
        "# Visualization\n",
        "plt.figure(figsize=(8, 6))\n",
        "for i, word in enumerate(gender_specific_words):\n",
        "    plt.bar(range(len(gender_specific_words)), weights[:, i], alpha=0.6, label=word)\n",
        "\n",
        "plt.xticks(range(len(gender_specific_words)), gender_specific_words, rotation=45, fontproperties=bangla_font)\n",
        "plt.xlabel('Gender-Specific Words')\n",
        "plt.ylabel('Weight')\n",
        "plt.title('Weights of PCA Components')\n",
        "plt.legend(prop=bangla_font)\n",
        "plt.tight_layout()\n",
        "plt.show()\n"
      ],
      "metadata": {
        "colab": {
          "base_uri": "https://localhost:8080/",
          "height": 624
        },
        "id": "S1XtI31weqK4",
        "outputId": "e4650aa0-294f-452d-b253-cf5a2a35d4c8"
      },
      "execution_count": null,
      "outputs": [
        {
          "output_type": "stream",
          "name": "stdout",
          "text": [
            "Mounted at /content/drive\n"
          ]
        },
        {
          "output_type": "display_data",
          "data": {
            "text/plain": [
              "<Figure size 800x600 with 1 Axes>"
            ],
            "image/png": "[encoded data removed]"
          },
          "metadata": {}
        }
      ]
    },
    {
      "cell_type": "markdown",
      "source": [
        "# Detecting Bias For Bangla Word using Cosine Similarity in the Gender Subspace"
      ],
      "metadata": {
        "id": "9CKgRNDJvVMv"
      }
    },
    {
      "cell_type": "code",
      "source": [
        "from sklearn.metrics.pairwise import cosine_similarity\n",
        "\n",
        "# genders = ['পুরুষ', 'ছেলে', 'মহিলা', 'মেয়ে']\n",
        "\n",
        "# Calculate cosine similarity between gender-specific words\n",
        "similarity_matrix = cosine_similarity(standardized_matrix)\n",
        "for i, word1 in enumerate(gender_specific_words):\n",
        "  for j, word2 in enumerate(gender_specific_words):\n",
        "        similarity = similarity_matrix[i, j]\n",
        "        print(f\"Cosine similarity between '{word1}' and '{word2}': {similarity:.4f}\")"
      ],
      "metadata": {
        "colab": {
          "base_uri": "https://localhost:8080/"
        },
        "id": "tIp7-Qw9uNxX",
        "outputId": "463941af-d04f-4c5a-bfa9-fb87ccdbc325"
      },
      "execution_count": null,
      "outputs": [
        {
          "output_type": "stream",
          "name": "stdout",
          "text": [
            "Cosine similarity between 'পুরুষ' and 'পুরুষ': 1.0000\n",
            "Cosine similarity between 'পুরুষ' and 'মহিলা': 0.3272\n",
            "Cosine similarity between 'পুরুষ' and 'ক্যাশিয়ার': -0.1579\n",
            "Cosine similarity between 'পুরুষ' and 'শিক্ষক': -0.1925\n",
            "Cosine similarity between 'পুরুষ' and 'সেবিকা': -0.2606\n",
            "Cosine similarity between 'পুরুষ' and 'সহকারী': -0.2737\n",
            "Cosine similarity between 'পুরুষ' and 'কৃষক': -0.1105\n",
            "Cosine similarity between 'পুরুষ' and 'চিকিৎসক': -0.2949\n",
            "Cosine similarity between 'পুরুষ' and 'ডাক্তার': -0.2862\n",
            "Cosine similarity between 'পুরুষ' and 'বিজ্ঞানী': -0.1517\n",
            "Cosine similarity between 'পুরুষ' and 'লেখক': -0.1590\n",
            "Cosine similarity between 'মহিলা' and 'পুরুষ': 0.3272\n",
            "Cosine similarity between 'মহিলা' and 'মহিলা': 1.0000\n",
            "Cosine similarity between 'মহিলা' and 'ক্যাশিয়ার': 0.0026\n",
            "Cosine similarity between 'মহিলা' and 'শিক্ষক': -0.2208\n",
            "Cosine similarity between 'মহিলা' and 'সেবিকা': 0.0312\n",
            "Cosine similarity between 'মহিলা' and 'সহকারী': -0.2690\n",
            "Cosine similarity between 'মহিলা' and 'কৃষক': 0.0241\n",
            "Cosine similarity between 'মহিলা' and 'চিকিৎসক': -0.2441\n",
            "Cosine similarity between 'মহিলা' and 'ডাক্তার': -0.1536\n",
            "Cosine similarity between 'মহিলা' and 'বিজ্ঞানী': -0.2504\n",
            "Cosine similarity between 'মহিলা' and 'লেখক': -0.3009\n",
            "Cosine similarity between 'ক্যাশিয়ার' and 'পুরুষ': -0.1579\n",
            "Cosine similarity between 'ক্যাশিয়ার' and 'মহিলা': 0.0026\n",
            "Cosine similarity between 'ক্যাশিয়ার' and 'ক্যাশিয়ার': 1.0000\n",
            "Cosine similarity between 'ক্যাশিয়ার' and 'শিক্ষক': -0.3623\n",
            "Cosine similarity between 'ক্যাশিয়ার' and 'সেবিকা': 0.6926\n",
            "Cosine similarity between 'ক্যাশিয়ার' and 'সহকারী': 0.0212\n",
            "Cosine similarity between 'ক্যাশিয়ার' and 'কৃষক': 0.0968\n",
            "Cosine similarity between 'ক্যাশিয়ার' and 'চিকিৎসক': -0.3536\n",
            "Cosine similarity between 'ক্যাশিয়ার' and 'ডাক্তার': -0.1341\n",
            "Cosine similarity between 'ক্যাশিয়ার' and 'বিজ্ঞানী': -0.1189\n",
            "Cosine similarity between 'ক্যাশিয়ার' and 'লেখক': -0.1015\n",
            "Cosine similarity between 'শিক্ষক' and 'পুরুষ': -0.1925\n",
            "Cosine similarity between 'শিক্ষক' and 'মহিলা': -0.2208\n",
            "Cosine similarity between 'শিক্ষক' and 'ক্যাশিয়ার': -0.3623\n",
            "Cosine similarity between 'শিক্ষক' and 'শিক্ষক': 1.0000\n",
            "Cosine similarity between 'শিক্ষক' and 'সেবিকা': -0.2915\n",
            "Cosine similarity between 'শিক্ষক' and 'সহকারী': 0.1292\n",
            "Cosine similarity between 'শিক্ষক' and 'কৃষক': -0.1458\n",
            "Cosine similarity between 'শিক্ষক' and 'চিকিৎসক': 0.1068\n",
            "Cosine similarity between 'শিক্ষক' and 'ডাক্তার': 0.0101\n",
            "Cosine similarity between 'শিক্ষক' and 'বিজ্ঞানী': -0.1933\n",
            "Cosine similarity between 'শিক্ষক' and 'লেখক': -0.0841\n",
            "Cosine similarity between 'সেবিকা' and 'পুরুষ': -0.2606\n",
            "Cosine similarity between 'সেবিকা' and 'মহিলা': 0.0312\n",
            "Cosine similarity between 'সেবিকা' and 'ক্যাশিয়ার': 0.6926\n",
            "Cosine similarity between 'সেবিকা' and 'শিক্ষক': -0.2915\n",
            "Cosine similarity between 'সেবিকা' and 'সেবিকা': 1.0000\n",
            "Cosine similarity between 'সেবিকা' and 'সহকারী': 0.0456\n",
            "Cosine similarity between 'সেবিকা' and 'কৃষক': 0.0134\n",
            "Cosine similarity between 'সেবিকা' and 'চিকিৎসক': -0.0755\n",
            "Cosine similarity between 'সেবিকা' and 'ডাক্তার': 0.1591\n",
            "Cosine similarity between 'সেবিকা' and 'বিজ্ঞানী': -0.2179\n",
            "Cosine similarity between 'সেবিকা' and 'লেখক': -0.2267\n",
            "Cosine similarity between 'সহকারী' and 'পুরুষ': -0.2737\n",
            "Cosine similarity between 'সহকারী' and 'মহিলা': -0.2690\n",
            "Cosine similarity between 'সহকারী' and 'ক্যাশিয়ার': 0.0212\n",
            "Cosine similarity between 'সহকারী' and 'শিক্ষক': 0.1292\n",
            "Cosine similarity between 'সহকারী' and 'সেবিকা': 0.0456\n",
            "Cosine similarity between 'সহকারী' and 'সহকারী': 1.0000\n",
            "Cosine similarity between 'সহকারী' and 'কৃষক': -0.2624\n",
            "Cosine similarity between 'সহকারী' and 'চিকিৎসক': -0.1175\n",
            "Cosine similarity between 'সহকারী' and 'ডাক্তার': -0.0656\n",
            "Cosine similarity between 'সহকারী' and 'বিজ্ঞানী': -0.1507\n",
            "Cosine similarity between 'সহকারী' and 'লেখক': -0.0460\n",
            "Cosine similarity between 'কৃষক' and 'পুরুষ': -0.1105\n",
            "Cosine similarity between 'কৃষক' and 'মহিলা': 0.0241\n",
            "Cosine similarity between 'কৃষক' and 'ক্যাশিয়ার': 0.0968\n",
            "Cosine similarity between 'কৃষক' and 'শিক্ষক': -0.1458\n",
            "Cosine similarity between 'কৃষক' and 'সেবিকা': 0.0134\n",
            "Cosine similarity between 'কৃষক' and 'সহকারী': -0.2624\n",
            "Cosine similarity between 'কৃষক' and 'কৃষক': 1.0000\n",
            "Cosine similarity between 'কৃষক' and 'চিকিৎসক': -0.1872\n",
            "Cosine similarity between 'কৃষক' and 'ডাক্তার': -0.0254\n",
            "Cosine similarity between 'কৃষক' and 'বিজ্ঞানী': -0.2419\n",
            "Cosine similarity between 'কৃষক' and 'লেখক': -0.2300\n",
            "Cosine similarity between 'চিকিৎসক' and 'পুরুষ': -0.2949\n",
            "Cosine similarity between 'চিকিৎসক' and 'মহিলা': -0.2441\n",
            "Cosine similarity between 'চিকিৎসক' and 'ক্যাশিয়ার': -0.3536\n",
            "Cosine similarity between 'চিকিৎসক' and 'শিক্ষক': 0.1068\n",
            "Cosine similarity between 'চিকিৎসক' and 'সেবিকা': -0.0755\n",
            "Cosine similarity between 'চিকিৎসক' and 'সহকারী': -0.1175\n",
            "Cosine similarity between 'চিকিৎসক' and 'কৃষক': -0.1872\n",
            "Cosine similarity between 'চিকিৎসক' and 'চিকিৎসক': 1.0000\n",
            "Cosine similarity between 'চিকিৎসক' and 'ডাক্তার': 0.2782\n",
            "Cosine similarity between 'চিকিৎসক' and 'বিজ্ঞানী': 0.2249\n",
            "Cosine similarity between 'চিকিৎসক' and 'লেখক': -0.0327\n",
            "Cosine similarity between 'ডাক্তার' and 'পুরুষ': -0.2862\n",
            "Cosine similarity between 'ডাক্তার' and 'মহিলা': -0.1536\n",
            "Cosine similarity between 'ডাক্তার' and 'ক্যাশিয়ার': -0.1341\n",
            "Cosine similarity between 'ডাক্তার' and 'শিক্ষক': 0.0101\n",
            "Cosine similarity between 'ডাক্তার' and 'সেবিকা': 0.1591\n",
            "Cosine similarity between 'ডাক্তার' and 'সহকারী': -0.0656\n",
            "Cosine similarity between 'ডাক্তার' and 'কৃষক': -0.0254\n",
            "Cosine similarity between 'ডাক্তার' and 'চিকিৎসক': 0.2782\n",
            "Cosine similarity between 'ডাক্তার' and 'ডাক্তার': 1.0000\n",
            "Cosine similarity between 'ডাক্তার' and 'বিজ্ঞানী': -0.0948\n",
            "Cosine similarity between 'ডাক্তার' and 'লেখক': -0.1477\n",
            "Cosine similarity between 'বিজ্ঞানী' and 'পুরুষ': -0.1517\n",
            "Cosine similarity between 'বিজ্ঞানী' and 'মহিলা': -0.2504\n",
            "Cosine similarity between 'বিজ্ঞানী' and 'ক্যাশিয়ার': -0.1189\n",
            "Cosine similarity between 'বিজ্ঞানী' and 'শিক্ষক': -0.1933\n",
            "Cosine similarity between 'বিজ্ঞানী' and 'সেবিকা': -0.2179\n",
            "Cosine similarity between 'বিজ্ঞানী' and 'সহকারী': -0.1507\n",
            "Cosine similarity between 'বিজ্ঞানী' and 'কৃষক': -0.2419\n",
            "Cosine similarity between 'বিজ্ঞানী' and 'চিকিৎসক': 0.2249\n",
            "Cosine similarity between 'বিজ্ঞানী' and 'ডাক্তার': -0.0948\n",
            "Cosine similarity between 'বিজ্ঞানী' and 'বিজ্ঞানী': 1.0000\n",
            "Cosine similarity between 'বিজ্ঞানী' and 'লেখক': 0.1129\n",
            "Cosine similarity between 'লেখক' and 'পুরুষ': -0.1590\n",
            "Cosine similarity between 'লেখক' and 'মহিলা': -0.3009\n",
            "Cosine similarity between 'লেখক' and 'ক্যাশিয়ার': -0.1015\n",
            "Cosine similarity between 'লেখক' and 'শিক্ষক': -0.0841\n",
            "Cosine similarity between 'লেখক' and 'সেবিকা': -0.2267\n",
            "Cosine similarity between 'লেখক' and 'সহকারী': -0.0460\n",
            "Cosine similarity between 'লেখক' and 'কৃষক': -0.2300\n",
            "Cosine similarity between 'লেখক' and 'চিকিৎসক': -0.0327\n",
            "Cosine similarity between 'লেখক' and 'ডাক্তার': -0.1477\n",
            "Cosine similarity between 'লেখক' and 'বিজ্ঞানী': 0.1129\n",
            "Cosine similarity between 'লেখক' and 'লেখক': 1.0000\n"
          ]
        }
      ]
    },
    {
      "cell_type": "code",
      "source": [
        "# prompt: perform permutation test with a call function and use gender_specific_words as the wordset list\n",
        "\n",
        "def permutation_test(wordset, num_permutations=1000):\n",
        "  # Calculate cosine similarity between gender-specific words\n",
        "  similarity_matrix = cosine_similarity(standardized_matrix)\n",
        "\n",
        "  # Calculate the average cosine similarity for the original wordset\n",
        "  original_similarity = np.mean(similarity_matrix)\n",
        "\n",
        "  # Initialize list to store permuted similarities\n",
        "  permuted_similarities = []\n",
        "\n",
        "  # Perform permutations\n",
        "  for _ in range(num_permutations):\n",
        "    # Shuffle the wordset\n",
        "    permuted_words = np.random.permutation(wordset)\n",
        "\n",
        "    # Calculate cosine similarity for the permuted wordset\n",
        "    permuted_matrix = standardized_matrix[np.argsort(permuted_words)]\n",
        "    permuted_similarity_matrix = cosine_similarity(permuted_matrix)\n",
        "    permuted_similarity = np.mean(permuted_similarity_matrix)\n",
        "\n",
        "    # Store the permuted similarity\n",
        "    permuted_similarities.append(permuted_similarity)\n",
        "\n",
        "  # Calculate the p-value\n",
        "  p_value = (np.sum(np.array(permuted_similarities) > original_similarity) + 1) / (num_permutations + 1)\n",
        "\n",
        "  return p_value\n",
        "\n",
        "# Perform permutation test with gender_specific_words\n",
        "p_value = permutation_test(gender_specific_words)\n",
        "\n",
        "print(f\"P-value: {p_value:.4f}\")\n",
        "\n"
      ],
      "metadata": {
        "id": "3bpFzjFm7qcf",
        "colab": {
          "base_uri": "https://localhost:8080/"
        },
        "outputId": "d17896e6-2675-4dc5-8339-1a8cccf1415c"
      },
      "execution_count": null,
      "outputs": [
        {
          "output_type": "stream",
          "name": "stdout",
          "text": [
            "P-value: 1.0000\n"
          ]
        }
      ]
    }
  ]
}